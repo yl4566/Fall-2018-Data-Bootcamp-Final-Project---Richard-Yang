{
 "cells": [
  {
   "cell_type": "markdown",
   "metadata": {},
   "source": [
    "# Portfolio Management Theory"
   ]
  },
  {
   "cell_type": "markdown",
   "metadata": {},
   "source": [
    "Portfolio management is the science of decision making about investment mix and balancing risk against performance. In this project, we look at some risky assets to examine and calculate their indivudal returns (by month). Then, we attempt to find the \"best\" portfolio, a combination of these risky assets, to see if there is a way for us to generate higher returns than any of the individual assets are able to. We examine how these returns are correlated with risk. Does risk matter in the pursuit of returns? Would it, in fact, be best to just invest in risk-free US Treasury Bonds? We test a combination of different portfolios, made up of different assets, to see if we can answer these questions. "
   ]
  },
  {
   "cell_type": "markdown",
   "metadata": {},
   "source": [
    "### Downloading Packages"
   ]
  },
  {
   "cell_type": "code",
   "execution_count": 1,
   "metadata": {},
   "outputs": [
    {
     "data": {
      "text/plain": [
       "sys.version_info(major=3, minor=6, micro=4, releaselevel='final', serial=0)"
      ]
     },
     "execution_count": 1,
     "metadata": {},
     "output_type": "execute_result"
    }
   ],
   "source": [
    "import sys\n",
    "sys.version\n",
    "sys.version_info"
   ]
  },
  {
   "cell_type": "code",
   "execution_count": 2,
   "metadata": {},
   "outputs": [],
   "source": [
    "%matplotlib inline\n",
    "\n",
    "import matplotlib\n",
    "import numpy as np\n",
    "import matplotlib.pyplot as plt\n",
    "import pandas as pd"
   ]
  },
  {
   "cell_type": "markdown",
   "metadata": {},
   "source": [
    "## MSCI"
   ]
  },
  {
   "cell_type": "markdown",
   "metadata": {},
   "source": [
    "For the purpose of this real-world project, we decide to examine how an actual portfolio management company evaluates risk. MSCI Inc. is a global provider of equity, fixed income, hedge fund stock market indexes, and multi-asset portfolio analysis tools. It publishes indexes including the MSCI AC World, MSCI USA, MSCI EAFE, MSCI EM, MSCI Europe, and the MSCI Pacific.  \n",
    "        \n",
    "\n",
    "\n"
   ]
  },
  {
   "cell_type": "markdown",
   "metadata": {},
   "source": [
    "Using historical data pulled from the MSCI website, we read in the market returns of each of the aformentioned MSCI indices for each month from 1988 to 2016. These will be our \"risky\" assets (assets that have a high degree of price volatility). "
   ]
  },
  {
   "cell_type": "markdown",
   "metadata": {},
   "source": [
    "Next, we need to find a baseline, \"risk-less\" asset to compare our \"risky\" assets to. United States treasury bonds are widely considered to have a \"risk-free\" return, given the very low probability of US government defaulting. We find economic data for the US 10 Year Treasury Bond, the US 90 Day Treasury Bill, the US 30 Day Treasury Bill  from the Federal Reserve Bank of St. Louis website, and pull the returns for these assets for each month from 1988 to 2016. "
   ]
  },
  {
   "cell_type": "markdown",
   "metadata": {},
   "source": [
    "## Reading in the Data"
   ]
  },
  {
   "cell_type": "markdown",
   "metadata": {},
   "source": [
    "First, we read this data into Jupyter, make some formatting changes, and show the first 20 rows of our data. In total, we have 348 rows and 11 columns of data. "
   ]
  },
  {
   "cell_type": "code",
   "execution_count": 3,
   "metadata": {
    "scrolled": false
   },
   "outputs": [
    {
     "name": "stdout",
     "output_type": "stream",
     "text": [
      "/Users/Dillon/Downloads/ReturnsPortfolios.csv\n"
     ]
    }
   ],
   "source": [
    "# read in the data\n",
    "\n",
    "inpath  = \"/Users/Dillon/Downloads/\"\n",
    "\n",
    "\n",
    "infile  = \"ReturnsPortfolios.csv\"\n",
    "\n",
    "print(inpath+infile)\n",
    "indata = pd.read_csv(inpath + infile)"
   ]
  },
  {
   "cell_type": "code",
   "execution_count": 4,
   "metadata": {},
   "outputs": [],
   "source": [
    "indata.columns = [var.upper() for var in indata.columns]"
   ]
  },
  {
   "cell_type": "code",
   "execution_count": 5,
   "metadata": {},
   "outputs": [
    {
     "data": {
      "text/html": [
       "<div>\n",
       "<style scoped>\n",
       "    .dataframe tbody tr th:only-of-type {\n",
       "        vertical-align: middle;\n",
       "    }\n",
       "\n",
       "    .dataframe tbody tr th {\n",
       "        vertical-align: top;\n",
       "    }\n",
       "\n",
       "    .dataframe thead th {\n",
       "        text-align: right;\n",
       "    }\n",
       "</style>\n",
       "<table border=\"1\" class=\"dataframe\">\n",
       "  <thead>\n",
       "    <tr style=\"text-align: right;\">\n",
       "      <th></th>\n",
       "      <th>DATE</th>\n",
       "      <th>MSCI WORLD</th>\n",
       "      <th>MSCI AC WORLD</th>\n",
       "      <th>MSCI EUROPE</th>\n",
       "      <th>MSCI EM</th>\n",
       "      <th>MSCI EAFE</th>\n",
       "      <th>MSCI PACIFIC</th>\n",
       "      <th>MSCI USA</th>\n",
       "      <th>TREASURY.BOND.10Y</th>\n",
       "      <th>TREASURY.BILL.90D</th>\n",
       "      <th>TREASURY.BILL.30D</th>\n",
       "    </tr>\n",
       "  </thead>\n",
       "  <tbody>\n",
       "    <tr>\n",
       "      <th>0</th>\n",
       "      <td>1/29/1988</td>\n",
       "      <td>0.024592</td>\n",
       "      <td>0.025330</td>\n",
       "      <td>-0.040626</td>\n",
       "      <td>0.098380</td>\n",
       "      <td>0.018081</td>\n",
       "      <td>0.049747</td>\n",
       "      <td>0.042834</td>\n",
       "      <td>0.044235</td>\n",
       "      <td>0.005001</td>\n",
       "      <td>0.002762</td>\n",
       "    </tr>\n",
       "    <tr>\n",
       "      <th>1</th>\n",
       "      <td>2/29/1988</td>\n",
       "      <td>0.058224</td>\n",
       "      <td>0.058079</td>\n",
       "      <td>0.059266</td>\n",
       "      <td>0.003396</td>\n",
       "      <td>0.066914</td>\n",
       "      <td>0.070676</td>\n",
       "      <td>0.041869</td>\n",
       "      <td>0.013917</td>\n",
       "      <td>0.005349</td>\n",
       "      <td>0.004564</td>\n",
       "    </tr>\n",
       "    <tr>\n",
       "      <th>2</th>\n",
       "      <td>3/31/1988</td>\n",
       "      <td>0.030382</td>\n",
       "      <td>0.031100</td>\n",
       "      <td>0.027948</td>\n",
       "      <td>0.107385</td>\n",
       "      <td>0.061675</td>\n",
       "      <td>0.078041</td>\n",
       "      <td>-0.033456</td>\n",
       "      <td>-0.019930</td>\n",
       "      <td>0.004803</td>\n",
       "      <td>0.004402</td>\n",
       "    </tr>\n",
       "    <tr>\n",
       "      <th>3</th>\n",
       "      <td>4/29/1988</td>\n",
       "      <td>0.012798</td>\n",
       "      <td>0.012980</td>\n",
       "      <td>0.019014</td>\n",
       "      <td>0.053382</td>\n",
       "      <td>0.014717</td>\n",
       "      <td>0.012751</td>\n",
       "      <td>0.009184</td>\n",
       "      <td>-0.012511</td>\n",
       "      <td>0.004554</td>\n",
       "      <td>0.004577</td>\n",
       "    </tr>\n",
       "    <tr>\n",
       "      <th>4</th>\n",
       "      <td>5/31/1988</td>\n",
       "      <td>-0.019802</td>\n",
       "      <td>-0.019521</td>\n",
       "      <td>-0.018278</td>\n",
       "      <td>0.029962</td>\n",
       "      <td>-0.031833</td>\n",
       "      <td>-0.038039</td>\n",
       "      <td>0.008603</td>\n",
       "      <td>-0.015848</td>\n",
       "      <td>0.005027</td>\n",
       "      <td>0.005051</td>\n",
       "    </tr>\n",
       "    <tr>\n",
       "      <th>5</th>\n",
       "      <td>6/30/1988</td>\n",
       "      <td>-0.001205</td>\n",
       "      <td>-0.000792</td>\n",
       "      <td>-0.009707</td>\n",
       "      <td>0.033977</td>\n",
       "      <td>-0.026153</td>\n",
       "      <td>-0.033873</td>\n",
       "      <td>0.046549</td>\n",
       "      <td>0.032302</td>\n",
       "      <td>0.005473</td>\n",
       "      <td>0.004832</td>\n",
       "    </tr>\n",
       "    <tr>\n",
       "      <th>6</th>\n",
       "      <td>7/29/1988</td>\n",
       "      <td>0.018986</td>\n",
       "      <td>0.018745</td>\n",
       "      <td>0.002620</td>\n",
       "      <td>-0.025425</td>\n",
       "      <td>0.031580</td>\n",
       "      <td>0.045549</td>\n",
       "      <td>-0.003091</td>\n",
       "      <td>-0.012001</td>\n",
       "      <td>0.004980</td>\n",
       "      <td>0.005060</td>\n",
       "    </tr>\n",
       "    <tr>\n",
       "      <th>7</th>\n",
       "      <td>8/31/1988</td>\n",
       "      <td>-0.054762</td>\n",
       "      <td>-0.054715</td>\n",
       "      <td>-0.045010</td>\n",
       "      <td>-0.026785</td>\n",
       "      <td>-0.064823</td>\n",
       "      <td>-0.073905</td>\n",
       "      <td>-0.033542</td>\n",
       "      <td>0.000564</td>\n",
       "      <td>0.005813</td>\n",
       "      <td>0.005957</td>\n",
       "    </tr>\n",
       "    <tr>\n",
       "      <th>8</th>\n",
       "      <td>9/30/1988</td>\n",
       "      <td>0.042611</td>\n",
       "      <td>0.043206</td>\n",
       "      <td>0.054758</td>\n",
       "      <td>0.064802</td>\n",
       "      <td>0.043894</td>\n",
       "      <td>0.038738</td>\n",
       "      <td>0.042732</td>\n",
       "      <td>0.032089</td>\n",
       "      <td>0.006366</td>\n",
       "      <td>0.006145</td>\n",
       "    </tr>\n",
       "    <tr>\n",
       "      <th>9</th>\n",
       "      <td>10/31/1988</td>\n",
       "      <td>0.066742</td>\n",
       "      <td>0.065662</td>\n",
       "      <td>0.093069</td>\n",
       "      <td>-0.006458</td>\n",
       "      <td>0.085797</td>\n",
       "      <td>0.082326</td>\n",
       "      <td>0.030653</td>\n",
       "      <td>0.021687</td>\n",
       "      <td>0.006600</td>\n",
       "      <td>0.006074</td>\n",
       "    </tr>\n",
       "    <tr>\n",
       "      <th>10</th>\n",
       "      <td>11/30/1988</td>\n",
       "      <td>0.034991</td>\n",
       "      <td>0.033732</td>\n",
       "      <td>0.012709</td>\n",
       "      <td>-0.004273</td>\n",
       "      <td>0.059777</td>\n",
       "      <td>0.082658</td>\n",
       "      <td>-0.015413</td>\n",
       "      <td>-0.020027</td>\n",
       "      <td>0.005817</td>\n",
       "      <td>0.005742</td>\n",
       "    </tr>\n",
       "    <tr>\n",
       "      <th>11</th>\n",
       "      <td>12/30/1988</td>\n",
       "      <td>0.009209</td>\n",
       "      <td>0.009222</td>\n",
       "      <td>0.005676</td>\n",
       "      <td>0.026573</td>\n",
       "      <td>0.005753</td>\n",
       "      <td>0.005789</td>\n",
       "      <td>0.016381</td>\n",
       "      <td>0.003005</td>\n",
       "      <td>0.006759</td>\n",
       "      <td>0.006306</td>\n",
       "    </tr>\n",
       "    <tr>\n",
       "      <th>12</th>\n",
       "      <td>1/31/1989</td>\n",
       "      <td>0.036351</td>\n",
       "      <td>0.036220</td>\n",
       "      <td>0.036625</td>\n",
       "      <td>-0.012604</td>\n",
       "      <td>0.017800</td>\n",
       "      <td>0.009309</td>\n",
       "      <td>0.076091</td>\n",
       "      <td>0.016054</td>\n",
       "      <td>0.007290</td>\n",
       "      <td>0.005766</td>\n",
       "    </tr>\n",
       "    <tr>\n",
       "      <th>13</th>\n",
       "      <td>2/28/1989</td>\n",
       "      <td>-0.006131</td>\n",
       "      <td>-0.005907</td>\n",
       "      <td>-0.011000</td>\n",
       "      <td>0.076505</td>\n",
       "      <td>0.005333</td>\n",
       "      <td>0.012894</td>\n",
       "      <td>-0.029986</td>\n",
       "      <td>-0.014851</td>\n",
       "      <td>0.006145</td>\n",
       "      <td>0.006110</td>\n",
       "    </tr>\n",
       "    <tr>\n",
       "      <th>14</th>\n",
       "      <td>3/31/1989</td>\n",
       "      <td>-0.006248</td>\n",
       "      <td>-0.005504</td>\n",
       "      <td>0.007610</td>\n",
       "      <td>0.099635</td>\n",
       "      <td>-0.019434</td>\n",
       "      <td>-0.031646</td>\n",
       "      <td>0.022538</td>\n",
       "      <td>0.009400</td>\n",
       "      <td>0.007611</td>\n",
       "      <td>0.006213</td>\n",
       "    </tr>\n",
       "  </tbody>\n",
       "</table>\n",
       "</div>"
      ],
      "text/plain": [
       "          DATE  MSCI WORLD  MSCI AC WORLD  MSCI EUROPE   MSCI EM  MSCI EAFE  \\\n",
       "0    1/29/1988    0.024592       0.025330    -0.040626  0.098380   0.018081   \n",
       "1    2/29/1988    0.058224       0.058079     0.059266  0.003396   0.066914   \n",
       "2    3/31/1988    0.030382       0.031100     0.027948  0.107385   0.061675   \n",
       "3    4/29/1988    0.012798       0.012980     0.019014  0.053382   0.014717   \n",
       "4    5/31/1988   -0.019802      -0.019521    -0.018278  0.029962  -0.031833   \n",
       "5    6/30/1988   -0.001205      -0.000792    -0.009707  0.033977  -0.026153   \n",
       "6    7/29/1988    0.018986       0.018745     0.002620 -0.025425   0.031580   \n",
       "7    8/31/1988   -0.054762      -0.054715    -0.045010 -0.026785  -0.064823   \n",
       "8    9/30/1988    0.042611       0.043206     0.054758  0.064802   0.043894   \n",
       "9   10/31/1988    0.066742       0.065662     0.093069 -0.006458   0.085797   \n",
       "10  11/30/1988    0.034991       0.033732     0.012709 -0.004273   0.059777   \n",
       "11  12/30/1988    0.009209       0.009222     0.005676  0.026573   0.005753   \n",
       "12   1/31/1989    0.036351       0.036220     0.036625 -0.012604   0.017800   \n",
       "13   2/28/1989   -0.006131      -0.005907    -0.011000  0.076505   0.005333   \n",
       "14   3/31/1989   -0.006248      -0.005504     0.007610  0.099635  -0.019434   \n",
       "\n",
       "    MSCI PACIFIC  MSCI USA  TREASURY.BOND.10Y  TREASURY.BILL.90D  \\\n",
       "0       0.049747  0.042834           0.044235           0.005001   \n",
       "1       0.070676  0.041869           0.013917           0.005349   \n",
       "2       0.078041 -0.033456          -0.019930           0.004803   \n",
       "3       0.012751  0.009184          -0.012511           0.004554   \n",
       "4      -0.038039  0.008603          -0.015848           0.005027   \n",
       "5      -0.033873  0.046549           0.032302           0.005473   \n",
       "6       0.045549 -0.003091          -0.012001           0.004980   \n",
       "7      -0.073905 -0.033542           0.000564           0.005813   \n",
       "8       0.038738  0.042732           0.032089           0.006366   \n",
       "9       0.082326  0.030653           0.021687           0.006600   \n",
       "10      0.082658 -0.015413          -0.020027           0.005817   \n",
       "11      0.005789  0.016381           0.003005           0.006759   \n",
       "12      0.009309  0.076091           0.016054           0.007290   \n",
       "13      0.012894 -0.029986          -0.014851           0.006145   \n",
       "14     -0.031646  0.022538           0.009400           0.007611   \n",
       "\n",
       "    TREASURY.BILL.30D  \n",
       "0            0.002762  \n",
       "1            0.004564  \n",
       "2            0.004402  \n",
       "3            0.004577  \n",
       "4            0.005051  \n",
       "5            0.004832  \n",
       "6            0.005060  \n",
       "7            0.005957  \n",
       "8            0.006145  \n",
       "9            0.006074  \n",
       "10           0.005742  \n",
       "11           0.006306  \n",
       "12           0.005766  \n",
       "13           0.006110  \n",
       "14           0.006213  "
      ]
     },
     "execution_count": 5,
     "metadata": {},
     "output_type": "execute_result"
    }
   ],
   "source": [
    "indata.head(15)"
   ]
  },
  {
   "cell_type": "code",
   "execution_count": 6,
   "metadata": {},
   "outputs": [
    {
     "data": {
      "text/plain": [
       "(348, 11)"
      ]
     },
     "execution_count": 6,
     "metadata": {},
     "output_type": "execute_result"
    }
   ],
   "source": [
    "indata.shape"
   ]
  },
  {
   "cell_type": "markdown",
   "metadata": {},
   "source": [
    "Some readers may not be familiar with our asset classes, so we create a dictionary to define them, and test to make sure that our code works."
   ]
  },
  {
   "cell_type": "code",
   "execution_count": 7,
   "metadata": {},
   "outputs": [],
   "source": [
    "# A Dictionary of the brief introductions of each asset class\n",
    "assets = {'MSCI WORLD': 'a market cap weighted stock market index of 1,649 stocks from companies throughout the world. ', \n",
    "         'MSCI AC WORLD': \"This index captures large and mid cap representation across 23 Developed Markets and 24 Emerging Markets countries.\"\n",
    "          \" With 2,787 constituents, the index covers approximately 85% of the global investable equity opportunity set.\" ,\n",
    "         'MSCI EUROPE': 'large and mid cap representation across 15 Developed Markets countries in Europe.',\n",
    "          'MSCI EM': 'large and mid cap representation across 24 Emerging Markets (EM) countries',\n",
    "          'MSCI EAFE':\"an equity index which captures large and mid cap representation across 21 Developed Markets\" \n",
    "          \" countries around the world, excluding the US and Canada.\",\n",
    "          'MSCI PACIFIC':'The MSCI Pacific Index captures large and mid cap representation across 5 Developed Markets countries in the Pacific region.',\n",
    "          'MSCI USA': 'The MSCI USA Index is designed to measure the performance of the large and mid cap segments of the US market',\n",
    "          'Treasury.Bond.10Y':'a debt obligation issued by the United States government with a maturity of 10 years upon initial issuance.',\n",
    "          'Treasury.Bill':'a short-term debt obligation backed by the Treasury Department of the U.S. government with a maturity of less than one year'\n",
    "        }\n"
   ]
  },
  {
   "cell_type": "code",
   "execution_count": 8,
   "metadata": {},
   "outputs": [
    {
     "data": {
      "text/plain": [
       "dict"
      ]
     },
     "execution_count": 8,
     "metadata": {},
     "output_type": "execute_result"
    }
   ],
   "source": [
    "type(assets)"
   ]
  },
  {
   "cell_type": "code",
   "execution_count": 9,
   "metadata": {},
   "outputs": [
    {
     "data": {
      "text/plain": [
       "['MSCI WORLD',\n",
       " 'MSCI AC WORLD',\n",
       " 'MSCI EUROPE',\n",
       " 'MSCI EM',\n",
       " 'MSCI EAFE',\n",
       " 'MSCI PACIFIC',\n",
       " 'MSCI USA',\n",
       " 'Treasury.Bond.10Y',\n",
       " 'Treasury.Bill']"
      ]
     },
     "execution_count": 9,
     "metadata": {},
     "output_type": "execute_result"
    }
   ],
   "source": [
    "list(assets)  # this only creates a list with items that are keys in dict names"
   ]
  },
  {
   "cell_type": "code",
   "execution_count": 10,
   "metadata": {},
   "outputs": [
    {
     "data": {
      "text/plain": [
       "'This index captures large and mid cap representation across 23 Developed Markets and 24 Emerging Markets countries. With 2,787 constituents, the index covers approximately 85% of the global investable equity opportunity set.'"
      ]
     },
     "execution_count": 10,
     "metadata": {},
     "output_type": "execute_result"
    }
   ],
   "source": [
    "assets['MSCI AC WORLD']"
   ]
  },
  {
   "cell_type": "code",
   "execution_count": 11,
   "metadata": {},
   "outputs": [
    {
     "data": {
      "text/html": [
       "<div>\n",
       "<style scoped>\n",
       "    .dataframe tbody tr th:only-of-type {\n",
       "        vertical-align: middle;\n",
       "    }\n",
       "\n",
       "    .dataframe tbody tr th {\n",
       "        vertical-align: top;\n",
       "    }\n",
       "\n",
       "    .dataframe thead th {\n",
       "        text-align: right;\n",
       "    }\n",
       "</style>\n",
       "<table border=\"1\" class=\"dataframe\">\n",
       "  <thead>\n",
       "    <tr style=\"text-align: right;\">\n",
       "      <th></th>\n",
       "      <th>MSCI WORLD</th>\n",
       "      <th>MSCI AC WORLD</th>\n",
       "      <th>MSCI EUROPE</th>\n",
       "      <th>MSCI EM</th>\n",
       "      <th>MSCI EAFE</th>\n",
       "      <th>MSCI PACIFIC</th>\n",
       "      <th>MSCI USA</th>\n",
       "      <th>TREASURY.BOND.10Y</th>\n",
       "      <th>TREASURY.BILL.90D</th>\n",
       "      <th>TREASURY.BILL.30D</th>\n",
       "    </tr>\n",
       "    <tr>\n",
       "      <th>DATE</th>\n",
       "      <th></th>\n",
       "      <th></th>\n",
       "      <th></th>\n",
       "      <th></th>\n",
       "      <th></th>\n",
       "      <th></th>\n",
       "      <th></th>\n",
       "      <th></th>\n",
       "      <th></th>\n",
       "      <th></th>\n",
       "    </tr>\n",
       "  </thead>\n",
       "  <tbody>\n",
       "    <tr>\n",
       "      <th>1/29/1988</th>\n",
       "      <td>0.024592</td>\n",
       "      <td>0.025330</td>\n",
       "      <td>-0.040626</td>\n",
       "      <td>0.098380</td>\n",
       "      <td>0.018081</td>\n",
       "      <td>0.049747</td>\n",
       "      <td>0.042834</td>\n",
       "      <td>0.044235</td>\n",
       "      <td>0.005001</td>\n",
       "      <td>0.002762</td>\n",
       "    </tr>\n",
       "    <tr>\n",
       "      <th>2/29/1988</th>\n",
       "      <td>0.058224</td>\n",
       "      <td>0.058079</td>\n",
       "      <td>0.059266</td>\n",
       "      <td>0.003396</td>\n",
       "      <td>0.066914</td>\n",
       "      <td>0.070676</td>\n",
       "      <td>0.041869</td>\n",
       "      <td>0.013917</td>\n",
       "      <td>0.005349</td>\n",
       "      <td>0.004564</td>\n",
       "    </tr>\n",
       "    <tr>\n",
       "      <th>3/31/1988</th>\n",
       "      <td>0.030382</td>\n",
       "      <td>0.031100</td>\n",
       "      <td>0.027948</td>\n",
       "      <td>0.107385</td>\n",
       "      <td>0.061675</td>\n",
       "      <td>0.078041</td>\n",
       "      <td>-0.033456</td>\n",
       "      <td>-0.019930</td>\n",
       "      <td>0.004803</td>\n",
       "      <td>0.004402</td>\n",
       "    </tr>\n",
       "    <tr>\n",
       "      <th>4/29/1988</th>\n",
       "      <td>0.012798</td>\n",
       "      <td>0.012980</td>\n",
       "      <td>0.019014</td>\n",
       "      <td>0.053382</td>\n",
       "      <td>0.014717</td>\n",
       "      <td>0.012751</td>\n",
       "      <td>0.009184</td>\n",
       "      <td>-0.012511</td>\n",
       "      <td>0.004554</td>\n",
       "      <td>0.004577</td>\n",
       "    </tr>\n",
       "    <tr>\n",
       "      <th>5/31/1988</th>\n",
       "      <td>-0.019802</td>\n",
       "      <td>-0.019521</td>\n",
       "      <td>-0.018278</td>\n",
       "      <td>0.029962</td>\n",
       "      <td>-0.031833</td>\n",
       "      <td>-0.038039</td>\n",
       "      <td>0.008603</td>\n",
       "      <td>-0.015848</td>\n",
       "      <td>0.005027</td>\n",
       "      <td>0.005051</td>\n",
       "    </tr>\n",
       "  </tbody>\n",
       "</table>\n",
       "</div>"
      ],
      "text/plain": [
       "           MSCI WORLD  MSCI AC WORLD  MSCI EUROPE   MSCI EM  MSCI EAFE  \\\n",
       "DATE                                                                     \n",
       "1/29/1988    0.024592       0.025330    -0.040626  0.098380   0.018081   \n",
       "2/29/1988    0.058224       0.058079     0.059266  0.003396   0.066914   \n",
       "3/31/1988    0.030382       0.031100     0.027948  0.107385   0.061675   \n",
       "4/29/1988    0.012798       0.012980     0.019014  0.053382   0.014717   \n",
       "5/31/1988   -0.019802      -0.019521    -0.018278  0.029962  -0.031833   \n",
       "\n",
       "           MSCI PACIFIC  MSCI USA  TREASURY.BOND.10Y  TREASURY.BILL.90D  \\\n",
       "DATE                                                                      \n",
       "1/29/1988      0.049747  0.042834           0.044235           0.005001   \n",
       "2/29/1988      0.070676  0.041869           0.013917           0.005349   \n",
       "3/31/1988      0.078041 -0.033456          -0.019930           0.004803   \n",
       "4/29/1988      0.012751  0.009184          -0.012511           0.004554   \n",
       "5/31/1988     -0.038039  0.008603          -0.015848           0.005027   \n",
       "\n",
       "           TREASURY.BILL.30D  \n",
       "DATE                          \n",
       "1/29/1988           0.002762  \n",
       "2/29/1988           0.004564  \n",
       "3/31/1988           0.004402  \n",
       "4/29/1988           0.004577  \n",
       "5/31/1988           0.005051  "
      ]
     },
     "execution_count": 11,
     "metadata": {},
     "output_type": "execute_result"
    }
   ],
   "source": [
    "df =indata.set_index(['DATE'])\n",
    "df.head(5)"
   ]
  },
  {
   "cell_type": "markdown",
   "metadata": {},
   "source": [
    "## Returns by Month"
   ]
  },
  {
   "cell_type": "markdown",
   "metadata": {},
   "source": [
    "Before we create our portfolios, we need to understand these portfolios in the context of each month. In other words, we need to create a baseline, calculating the combined return of all assets, risky and riskless, each month."
   ]
  },
  {
   "cell_type": "code",
   "execution_count": 12,
   "metadata": {},
   "outputs": [],
   "source": [
    "trend = df.mean(axis=1)"
   ]
  },
  {
   "cell_type": "code",
   "execution_count": 13,
   "metadata": {},
   "outputs": [
    {
     "data": {
      "text/plain": [
       "DATE\n",
       "3/31/2016     0.054505\n",
       "4/29/2016     0.013189\n",
       "5/31/2016    -0.003471\n",
       "6/30/2016    -0.002928\n",
       "7/29/2016     0.033763\n",
       "8/31/2016     0.002592\n",
       "9/30/2016     0.006816\n",
       "10/31/2016   -0.011868\n",
       "11/30/2016   -0.008519\n",
       "12/30/2016    0.015675\n",
       "dtype: float64"
      ]
     },
     "execution_count": 13,
     "metadata": {},
     "output_type": "execute_result"
    }
   ],
   "source": [
    "trend.tail(10)"
   ]
  },
  {
   "cell_type": "markdown",
   "metadata": {},
   "source": [
    "We visualize this graphically. "
   ]
  },
  {
   "cell_type": "code",
   "execution_count": 14,
   "metadata": {},
   "outputs": [
    {
     "data": {
      "image/png": "[encoded data removed]",
      "text/plain": [
       "<matplotlib.figure.Figure at 0x112eee1d0>"
      ]
     },
     "metadata": {},
     "output_type": "display_data"
    }
   ],
   "source": [
    "plt.style.use('bmh')\n",
    "\n",
    "fig, ax = plt.subplots()\n",
    "trend.plot(ax=ax,kind='line', color=['blue','magenta'],)\n",
    "ax.set_title('Average Return on Major indexes', fontsize=14, loc='left',fontweight = \"bold\")\n",
    "ax.set_ylabel('Return')\n",
    "ax.set_xlabel('1988 - 2016')\n",
    "ax.tick_params(labelcolor='red') \n",
    "ax.spines[\"right\"].set_visible(False)\n",
    "ax.spines[\"top\"].set_visible(False)"
   ]
  },
  {
   "cell_type": "code",
   "execution_count": 15,
   "metadata": {},
   "outputs": [
    {
     "name": "stdout",
     "output_type": "stream",
     "text": [
      "The lowest return is -0.14513986259999997\n",
      "It is on 10/31/2008\n"
     ]
    }
   ],
   "source": [
    "print('The lowest return is', trend.min())\n",
    "print('It is on', trend.idxmin())"
   ]
  },
  {
   "cell_type": "markdown",
   "metadata": {},
   "source": [
    "We immediately note that some months are highly volatile compared to other months. In fact, we see that October 2008 had the lowest return of our entire data set. Perhaps corresponding to a certain financial crisis?"
   ]
  },
  {
   "cell_type": "markdown",
   "metadata": {},
   "source": [
    "## Portfolio Selection"
   ]
  },
  {
   "cell_type": "markdown",
   "metadata": {},
   "source": [
    "However, for the purposes of our project, we assume that the average, risk-averse investor wants to invest in developed markets (developing markets might have too much risk inherent in them). As such, we define our set of risky assets for the analysis as MSCI EUROPE, MSCI USA, and MSCI PACIFIC. Additionally, while the US 10 Year Treasury Bond is backed by the US government, the 10 year time horizon is very long for the average investor, who could face significant liquidity risk locking his capital in for this duration of time. We will also include this as a risky asset. The US 90 Day Treasury Bill will be our baseline for what constitutes a riskless asset, which is a common assumption found in finance."
   ]
  },
  {
   "cell_type": "code",
   "execution_count": 16,
   "metadata": {},
   "outputs": [],
   "source": [
    "RiskyAsset     =[\"MSCI EUROPE\",\"MSCI USA\",\"MSCI PACIFIC\",\"TREASURY.BOND.10Y\"]\n",
    "RiskFreeAsset  = \"TREASURY.BILL.90D\""
   ]
  },
  {
   "cell_type": "code",
   "execution_count": 17,
   "metadata": {},
   "outputs": [
    {
     "data": {
      "text/html": [
       "<div>\n",
       "<style scoped>\n",
       "    .dataframe tbody tr th:only-of-type {\n",
       "        vertical-align: middle;\n",
       "    }\n",
       "\n",
       "    .dataframe tbody tr th {\n",
       "        vertical-align: top;\n",
       "    }\n",
       "\n",
       "    .dataframe thead th {\n",
       "        text-align: right;\n",
       "    }\n",
       "</style>\n",
       "<table border=\"1\" class=\"dataframe\">\n",
       "  <thead>\n",
       "    <tr style=\"text-align: right;\">\n",
       "      <th></th>\n",
       "      <th>MSCI EUROPE</th>\n",
       "      <th>MSCI USA</th>\n",
       "      <th>MSCI PACIFIC</th>\n",
       "      <th>TREASURY.BOND.10Y</th>\n",
       "    </tr>\n",
       "  </thead>\n",
       "  <tbody>\n",
       "    <tr>\n",
       "      <th>0</th>\n",
       "      <td>-0.040626</td>\n",
       "      <td>0.042834</td>\n",
       "      <td>0.049747</td>\n",
       "      <td>0.044235</td>\n",
       "    </tr>\n",
       "    <tr>\n",
       "      <th>1</th>\n",
       "      <td>0.059266</td>\n",
       "      <td>0.041869</td>\n",
       "      <td>0.070676</td>\n",
       "      <td>0.013917</td>\n",
       "    </tr>\n",
       "    <tr>\n",
       "      <th>2</th>\n",
       "      <td>0.027948</td>\n",
       "      <td>-0.033456</td>\n",
       "      <td>0.078041</td>\n",
       "      <td>-0.019930</td>\n",
       "    </tr>\n",
       "  </tbody>\n",
       "</table>\n",
       "</div>"
      ],
      "text/plain": [
       "   MSCI EUROPE  MSCI USA  MSCI PACIFIC  TREASURY.BOND.10Y\n",
       "0    -0.040626  0.042834      0.049747           0.044235\n",
       "1     0.059266  0.041869      0.070676           0.013917\n",
       "2     0.027948 -0.033456      0.078041          -0.019930"
      ]
     },
     "execution_count": 17,
     "metadata": {},
     "output_type": "execute_result"
    }
   ],
   "source": [
    "# print out first 3 rows and all columns of risky assets\n",
    "indata.loc[0:2,RiskyAsset] "
   ]
  },
  {
   "cell_type": "markdown",
   "metadata": {},
   "source": [
    "# <span style=\"color:blue\">Analyzing the Risky Assets: Return vs. Risk</span>\n",
    "\n",
    "First, same basic stastical calculations. We examine the mean, median, standard deviations, skew, and kurtosis of our risky assets."
   ]
  },
  {
   "cell_type": "code",
   "execution_count": 18,
   "metadata": {},
   "outputs": [
    {
     "data": {
      "text/html": [
       "<div>\n",
       "<style scoped>\n",
       "    .dataframe tbody tr th:only-of-type {\n",
       "        vertical-align: middle;\n",
       "    }\n",
       "\n",
       "    .dataframe tbody tr th {\n",
       "        vertical-align: top;\n",
       "    }\n",
       "\n",
       "    .dataframe thead th {\n",
       "        text-align: right;\n",
       "    }\n",
       "</style>\n",
       "<table border=\"1\" class=\"dataframe\">\n",
       "  <thead>\n",
       "    <tr style=\"text-align: right;\">\n",
       "      <th></th>\n",
       "      <th>Kurtosis</th>\n",
       "      <th>Skew</th>\n",
       "      <th>mean</th>\n",
       "      <th>median</th>\n",
       "      <th>standard Deviation</th>\n",
       "    </tr>\n",
       "  </thead>\n",
       "  <tbody>\n",
       "    <tr>\n",
       "      <th>MSCI EUROPE</th>\n",
       "      <td>1.274753</td>\n",
       "      <td>0.049996</td>\n",
       "      <td>0.007798</td>\n",
       "      <td>0.010439</td>\n",
       "      <td>0.049996</td>\n",
       "    </tr>\n",
       "    <tr>\n",
       "      <th>MSCI USA</th>\n",
       "      <td>1.218349</td>\n",
       "      <td>0.041358</td>\n",
       "      <td>0.009155</td>\n",
       "      <td>0.012908</td>\n",
       "      <td>0.041358</td>\n",
       "    </tr>\n",
       "    <tr>\n",
       "      <th>MSCI PACIFIC</th>\n",
       "      <td>0.874957</td>\n",
       "      <td>0.055957</td>\n",
       "      <td>0.003608</td>\n",
       "      <td>0.001994</td>\n",
       "      <td>0.055957</td>\n",
       "    </tr>\n",
       "    <tr>\n",
       "      <th>TREASURY.BOND.10Y</th>\n",
       "      <td>0.839616</td>\n",
       "      <td>0.019887</td>\n",
       "      <td>0.005627</td>\n",
       "      <td>0.005221</td>\n",
       "      <td>0.019887</td>\n",
       "    </tr>\n",
       "  </tbody>\n",
       "</table>\n",
       "</div>"
      ],
      "text/plain": [
       "                   Kurtosis      Skew      mean    median  standard Deviation\n",
       "MSCI EUROPE        1.274753  0.049996  0.007798  0.010439            0.049996\n",
       "MSCI USA           1.218349  0.041358  0.009155  0.012908            0.041358\n",
       "MSCI PACIFIC       0.874957  0.055957  0.003608  0.001994            0.055957\n",
       "TREASURY.BOND.10Y  0.839616  0.019887  0.005627  0.005221            0.019887"
      ]
     },
     "execution_count": 18,
     "metadata": {},
     "output_type": "execute_result"
    }
   ],
   "source": [
    "table={'mean':indata[RiskyAsset].mean(),\n",
    "      'median':indata[RiskyAsset].median(),\n",
    "      'standard Deviation':indata[RiskyAsset].std(),\n",
    "       'Skew':indata[RiskyAsset].std(),\n",
    "       'Kurtosis':indata[RiskyAsset].kurtosis()}\n",
    "pd.DataFrame(table)"
   ]
  },
  {
   "cell_type": "markdown",
   "metadata": {},
   "source": [
    "Skewness describes asymmetry from the normal distribution in a set of statistical data. The idea is to invest in a company with a long tail, which in the equity markets is a stock price that is greatly skewed positively, such as \"MSCI PACIFIC\". \n",
    "\n",
    "Kurtosis refers to the degree of peak in a distribution. More peak than normal (leptokurtic) means that a distribution also has fatter tails and that there are more chances of extreme outcomes compared to a normal distribution. Thus we may assume that \"MSCI EUROPE\" has a higher chance of producing extreme outcomes than the others."
   ]
  },
  {
   "cell_type": "markdown",
   "metadata": {},
   "source": [
    "## The Return Risk Ratio"
   ]
  },
  {
   "cell_type": "markdown",
   "metadata": {},
   "source": [
    "In Portfolio Management theory, the return-risk ratio is an important metric for measuring how much return an investment generates, compared to its level of risk. The formula is the asset's mean divided by its standard deviation. We calculate this:"
   ]
  },
  {
   "cell_type": "code",
   "execution_count": 19,
   "metadata": {},
   "outputs": [
    {
     "data": {
      "text/plain": [
       "MSCI EUROPE          0.155978\n",
       "MSCI USA             0.221373\n",
       "MSCI PACIFIC         0.064470\n",
       "TREASURY.BOND.10Y    0.282970\n",
       "dtype: float64"
      ]
     },
     "execution_count": 19,
     "metadata": {},
     "output_type": "execute_result"
    }
   ],
   "source": [
    "rr_ratio=indata[RiskyAsset].mean()/indata[RiskyAsset].std()\n",
    "rr_ratio"
   ]
  },
  {
   "cell_type": "markdown",
   "metadata": {},
   "source": [
    "Graphically visualized:"
   ]
  },
  {
   "cell_type": "code",
   "execution_count": 42,
   "metadata": {},
   "outputs": [
    {
     "data": {
      "text/plain": [
       "<matplotlib.axes._subplots.AxesSubplot at 0x11d4b1a90>"
      ]
     },
     "execution_count": 42,
     "metadata": {},
     "output_type": "execute_result"
    },
    {
     "data": {
      "image/png": "[encoded data removed]",
      "text/plain": [
       "<matplotlib.figure.Figure at 0x11d48e160>"
      ]
     },
     "metadata": {},
     "output_type": "display_data"
    }
   ],
   "source": [
    "rr_ratio.plot.bar()"
   ]
  },
  {
   "cell_type": "markdown",
   "metadata": {},
   "source": [
    "Out of the four risky assets, the MSCI USA gives the highest monthly expected return while the MSCI PACIFIC gives the lowest. To our surprise, MSCI PACIFIC also has the highest risk, which makes it probably the least attractive asset to invest considering its low return and high risk. This is illustrated on the bar plot with 'MSCI PACIFIC' giving the lowest return-risk ratio. The Treasury bond, which is always a relatively safe asset, has the lowest risk, which makes its return-risk ratio to be high. "
   ]
  },
  {
   "cell_type": "markdown",
   "metadata": {},
   "source": [
    "\n",
    "## <span style=\"color:blue\"> Examining Risky and Riskless Asset Distributions </span>\n",
    "We plot the distributions for each asset class, finding out the number of months an asset gives a certain return. Our goal is to see if any assets have abnormal distributions that deviate from the standard \"Bell Curve\". "
   ]
  },
  {
   "cell_type": "code",
   "execution_count": 21,
   "metadata": {},
   "outputs": [
    {
     "data": {
      "text/plain": [
       "Text(0,0.5,'Number of Months')"
      ]
     },
     "execution_count": 21,
     "metadata": {},
     "output_type": "execute_result"
    },
    {
     "data": {
      "image/png": "[encoded data removed]",
      "text/plain": [
       "<matplotlib.figure.Figure at 0x11bfc9c50>"
      ]
     },
     "metadata": {},
     "output_type": "display_data"
    }
   ],
   "source": [
    "indata[\"MSCI EUROPE\"].plot.hist(stacked=True, bins=20)\n",
    "plt.xlabel ('Return')\n",
    "plt.ylabel('Number of Months')"
   ]
  },
  {
   "cell_type": "code",
   "execution_count": 46,
   "metadata": {},
   "outputs": [
    {
     "data": {
      "text/plain": [
       "Text(0,0.5,'Number of Months')"
      ]
     },
     "execution_count": 46,
     "metadata": {},
     "output_type": "execute_result"
    },
    {
     "data": {
      "image/png": "[encoded data removed]",
      "text/plain": [
       "<matplotlib.figure.Figure at 0x11d4031d0>"
      ]
     },
     "metadata": {},
     "output_type": "display_data"
    }
   ],
   "source": [
    "indata[\"MSCI USA\"].plot.hist(stacked=True, bins=20)\n",
    "plt.xlabel ('Return')\n",
    "plt.ylabel('Number of Months')"
   ]
  },
  {
   "cell_type": "code",
   "execution_count": 23,
   "metadata": {},
   "outputs": [
    {
     "data": {
      "text/plain": [
       "Text(0,0.5,'Number of Months')"
      ]
     },
     "execution_count": 23,
     "metadata": {},
     "output_type": "execute_result"
    },
    {
     "data": {
      "image/png": "[encoded data removed]",
      "text/plain": [
       "<matplotlib.figure.Figure at 0x11c236b00>"
      ]
     },
     "metadata": {},
     "output_type": "display_data"
    }
   ],
   "source": [
    "indata[\"MSCI PACIFIC\"].plot.hist(stacked=True, bins=20)\n",
    "plt.xlabel ('Return')\n",
    "plt.ylabel('Number of Months')"
   ]
  },
  {
   "cell_type": "code",
   "execution_count": 24,
   "metadata": {},
   "outputs": [
    {
     "data": {
      "text/plain": [
       "Text(0,0.5,'Number of Months')"
      ]
     },
     "execution_count": 24,
     "metadata": {},
     "output_type": "execute_result"
    },
    {
     "data": {
      "image/png": "[encoded data removed]",
      "text/plain": [
       "<matplotlib.figure.Figure at 0x11c349278>"
      ]
     },
     "metadata": {},
     "output_type": "display_data"
    }
   ],
   "source": [
    "indata[\"TREASURY.BOND.10Y\"].plot.hist(stacked=True, bins=20)\n",
    "plt.xlabel ('Return')\n",
    "plt.ylabel('Number of Months')"
   ]
  },
  {
   "cell_type": "code",
   "execution_count": 25,
   "metadata": {},
   "outputs": [
    {
     "data": {
      "text/plain": [
       "Text(0,0.5,'Number of Months')"
      ]
     },
     "execution_count": 25,
     "metadata": {},
     "output_type": "execute_result"
    },
    {
     "data": {
      "image/png": "[encoded data removed]",
      "text/plain": [
       "<matplotlib.figure.Figure at 0x11c5148d0>"
      ]
     },
     "metadata": {},
     "output_type": "display_data"
    }
   ],
   "source": [
    "indata[\"TREASURY.BILL.90D\"].plot.hist(stacked=True, bins=20)\n",
    "plt.xlabel ('Return')\n",
    "plt.ylabel('Number of Months')"
   ]
  },
  {
   "cell_type": "markdown",
   "metadata": {},
   "source": [
    "All risky asset distributions resemble normal distributions, despite some outliers. This coincides with the low skewness and kurtosis we found in part one. The first three asset classes are clearly positively skewed, showing a sign of good investment. \n",
    "\n",
    "Interestingly, we note that our riskless asset, the US Treasury 90 Day Bill, has a large number of months that returned 0%. This is in line with the low-risk, low-return profile that makes this asset riskless. "
   ]
  },
  {
   "cell_type": "markdown",
   "metadata": {},
   "source": [
    "# <span style=\"color:blue\"> Building the \"Best\" Portfolio</span>"
   ]
  },
  {
   "cell_type": "markdown",
   "metadata": {},
   "source": [
    "Now that we have analyze our individual risky assets, we set out to find what combination of assets build the \"best\" portfolio. "
   ]
  },
  {
   "cell_type": "markdown",
   "metadata": {},
   "source": [
    "## The Minimum Variance Portfolio"
   ]
  },
  {
   "cell_type": "markdown",
   "metadata": {},
   "source": [
    "A minimum variance portfolio indicates a well-diversified portfolio that consists of individually risky assets, which are hedged when traded together, resulting in the lowest possible risk for the rate of expected return. Its formula is:"
   ]
  },
  {
   "cell_type": "code",
   "execution_count": 53,
   "metadata": {},
   "outputs": [
    {
     "data": {
      "text/html": [
       "<img src=\"https://github.com/yl4566/Fall-2018-Data-Bootcamp-Final-Project---Richard-Yang/blob/master/MVP%20Formula.gif?raw=true\">"
      ],
      "text/plain": [
       "<IPython.core.display.HTML object>"
      ]
     },
     "metadata": {},
     "output_type": "display_data"
    }
   ],
   "source": [
    "%%html\n",
    "<img src=\"https://github.com/yl4566/Fall-2018-Data-Bootcamp-Final-Project---Richard-Yang/blob/master/MVP%20Formula.gif?raw=true\">"
   ]
  },
  {
   "cell_type": "markdown",
   "metadata": {},
   "source": [
    "As seen in the formula above, we need to figure out our assets' covariance and correlation in order to compute the minimum variance portfolio. Additionally, our covariance matrix must be non-singular (have non-zero determinants), symmetric, and postive definite for the formula to work. "
   ]
  },
  {
   "cell_type": "markdown",
   "metadata": {},
   "source": [
    "First, we calculate our assets' covariance matrix. Covariance is a measure indicating the extent to which two assets change in tandem."
   ]
  },
  {
   "cell_type": "code",
   "execution_count": 27,
   "metadata": {},
   "outputs": [
    {
     "data": {
      "text/html": [
       "<div>\n",
       "<style scoped>\n",
       "    .dataframe tbody tr th:only-of-type {\n",
       "        vertical-align: middle;\n",
       "    }\n",
       "\n",
       "    .dataframe tbody tr th {\n",
       "        vertical-align: top;\n",
       "    }\n",
       "\n",
       "    .dataframe thead th {\n",
       "        text-align: right;\n",
       "    }\n",
       "</style>\n",
       "<table border=\"1\" class=\"dataframe\">\n",
       "  <thead>\n",
       "    <tr style=\"text-align: right;\">\n",
       "      <th></th>\n",
       "      <th>MSCI EUROPE</th>\n",
       "      <th>MSCI USA</th>\n",
       "      <th>MSCI PACIFIC</th>\n",
       "      <th>TREASURY.BOND.10Y</th>\n",
       "    </tr>\n",
       "  </thead>\n",
       "  <tbody>\n",
       "    <tr>\n",
       "      <th>MSCI EUROPE</th>\n",
       "      <td>0.002500</td>\n",
       "      <td>0.001616</td>\n",
       "      <td>0.001813</td>\n",
       "      <td>-0.000097</td>\n",
       "    </tr>\n",
       "    <tr>\n",
       "      <th>MSCI USA</th>\n",
       "      <td>0.001616</td>\n",
       "      <td>0.001710</td>\n",
       "      <td>0.001247</td>\n",
       "      <td>-0.000039</td>\n",
       "    </tr>\n",
       "    <tr>\n",
       "      <th>MSCI PACIFIC</th>\n",
       "      <td>0.001813</td>\n",
       "      <td>0.001247</td>\n",
       "      <td>0.003131</td>\n",
       "      <td>-0.000035</td>\n",
       "    </tr>\n",
       "    <tr>\n",
       "      <th>TREASURY.BOND.10Y</th>\n",
       "      <td>-0.000097</td>\n",
       "      <td>-0.000039</td>\n",
       "      <td>-0.000035</td>\n",
       "      <td>0.000395</td>\n",
       "    </tr>\n",
       "  </tbody>\n",
       "</table>\n",
       "</div>"
      ],
      "text/plain": [
       "                   MSCI EUROPE  MSCI USA  MSCI PACIFIC  TREASURY.BOND.10Y\n",
       "MSCI EUROPE           0.002500  0.001616      0.001813          -0.000097\n",
       "MSCI USA              0.001616  0.001710      0.001247          -0.000039\n",
       "MSCI PACIFIC          0.001813  0.001247      0.003131          -0.000035\n",
       "TREASURY.BOND.10Y    -0.000097 -0.000039     -0.000035           0.000395"
      ]
     },
     "execution_count": 27,
     "metadata": {},
     "output_type": "execute_result"
    }
   ],
   "source": [
    "indata[RiskyAsset].cov(min_periods=None)"
   ]
  },
  {
   "cell_type": "markdown",
   "metadata": {},
   "source": [
    "Next, we calculate our assets' correlation matrix. Correlation is a statistical measure that tells us how strongly two assets are related. It is a scaled version of covariance. "
   ]
  },
  {
   "cell_type": "code",
   "execution_count": 28,
   "metadata": {},
   "outputs": [
    {
     "data": {
      "text/html": [
       "<div>\n",
       "<style scoped>\n",
       "    .dataframe tbody tr th:only-of-type {\n",
       "        vertical-align: middle;\n",
       "    }\n",
       "\n",
       "    .dataframe tbody tr th {\n",
       "        vertical-align: top;\n",
       "    }\n",
       "\n",
       "    .dataframe thead th {\n",
       "        text-align: right;\n",
       "    }\n",
       "</style>\n",
       "<table border=\"1\" class=\"dataframe\">\n",
       "  <thead>\n",
       "    <tr style=\"text-align: right;\">\n",
       "      <th></th>\n",
       "      <th>MSCI EUROPE</th>\n",
       "      <th>MSCI USA</th>\n",
       "      <th>MSCI PACIFIC</th>\n",
       "      <th>TREASURY.BOND.10Y</th>\n",
       "    </tr>\n",
       "  </thead>\n",
       "  <tbody>\n",
       "    <tr>\n",
       "      <th>MSCI EUROPE</th>\n",
       "      <td>1.000000</td>\n",
       "      <td>0.781742</td>\n",
       "      <td>0.647950</td>\n",
       "      <td>-0.097888</td>\n",
       "    </tr>\n",
       "    <tr>\n",
       "      <th>MSCI USA</th>\n",
       "      <td>0.781742</td>\n",
       "      <td>1.000000</td>\n",
       "      <td>0.538701</td>\n",
       "      <td>-0.047390</td>\n",
       "    </tr>\n",
       "    <tr>\n",
       "      <th>MSCI PACIFIC</th>\n",
       "      <td>0.647950</td>\n",
       "      <td>0.538701</td>\n",
       "      <td>1.000000</td>\n",
       "      <td>-0.031418</td>\n",
       "    </tr>\n",
       "    <tr>\n",
       "      <th>TREASURY.BOND.10Y</th>\n",
       "      <td>-0.097888</td>\n",
       "      <td>-0.047390</td>\n",
       "      <td>-0.031418</td>\n",
       "      <td>1.000000</td>\n",
       "    </tr>\n",
       "  </tbody>\n",
       "</table>\n",
       "</div>"
      ],
      "text/plain": [
       "                   MSCI EUROPE  MSCI USA  MSCI PACIFIC  TREASURY.BOND.10Y\n",
       "MSCI EUROPE           1.000000  0.781742      0.647950          -0.097888\n",
       "MSCI USA              0.781742  1.000000      0.538701          -0.047390\n",
       "MSCI PACIFIC          0.647950  0.538701      1.000000          -0.031418\n",
       "TREASURY.BOND.10Y    -0.097888 -0.047390     -0.031418           1.000000"
      ]
     },
     "execution_count": 28,
     "metadata": {},
     "output_type": "execute_result"
    }
   ],
   "source": [
    "indata[RiskyAsset].corr(min_periods=None)"
   ]
  },
  {
   "cell_type": "markdown",
   "metadata": {},
   "source": [
    "We then verify that our assets' covariance matrix is non-singular. It must have non-zero determinants. "
   ]
  },
  {
   "cell_type": "code",
   "execution_count": 29,
   "metadata": {},
   "outputs": [
    {
     "name": "stdout",
     "output_type": "stream",
     "text": [
      "Covariance Matrix is non-singular\n"
     ]
    }
   ],
   "source": [
    "a=indata[RiskyAsset].cov(min_periods=None)\n",
    "np.linalg.det(a)\n",
    "if np.linalg.det(a)==0:\n",
    "    print('Covariance Matrix is singular')\n",
    "else: \n",
    "    print('Covariance Matrix is non-singular')"
   ]
  },
  {
   "cell_type": "markdown",
   "metadata": {},
   "source": [
    "Lastly, we confirm that the covariance matrix is symmetric and positive definite. "
   ]
  },
  {
   "cell_type": "code",
   "execution_count": 30,
   "metadata": {},
   "outputs": [
    {
     "name": "stdout",
     "output_type": "stream",
     "text": [
      "                   MSCI EUROPE  MSCI USA  MSCI PACIFIC  TREASURY.BOND.10Y\n",
      "MSCI EUROPE                0.0       0.0           0.0                0.0\n",
      "MSCI USA                   0.0       0.0           0.0                0.0\n",
      "MSCI PACIFIC               0.0       0.0           0.0                0.0\n",
      "TREASURY.BOND.10Y          0.0       0.0           0.0                0.0\n"
     ]
    }
   ],
   "source": [
    "b=np.transpose(a)\n",
    "print (np.subtract(a,b))"
   ]
  },
  {
   "cell_type": "code",
   "execution_count": 31,
   "metadata": {},
   "outputs": [
    {
     "name": "stdout",
     "output_type": "stream",
     "text": [
      "True\n"
     ]
    }
   ],
   "source": [
    "def is_pos_def(a):\n",
    "   return np.all(np.linalg.eigvals(a)>0)\n",
    "print(np.all(np.linalg.eigvals(a)>0))"
   ]
  },
  {
   "cell_type": "markdown",
   "metadata": {},
   "source": [
    "# <span style=\"color:blue\"> Calculating Portfolios </span>\n",
    " "
   ]
  },
  {
   "cell_type": "markdown",
   "metadata": {},
   "source": [
    "Now that we have found our risky assets' covariances and correlations, we can input this into our minimum variance portfolio and calculate it. \n",
    "\n",
    "Out of all the possible portfolio combinations to be constructed with our risky assets, the Global Minimum Variance Portfolio is the one with the lowest variance (risk). It is represented by the red dot below (the percentages below are irrelevant). "
   ]
  },
  {
   "cell_type": "code",
   "execution_count": 32,
   "metadata": {},
   "outputs": [
    {
     "data": {
      "text/html": [
       "<img src=\"https://breakingdownfinance.com/wp-content/uploads/2016/07/minimum-variance-portflio.png\">"
      ],
      "text/plain": [
       "<IPython.core.display.HTML object>"
      ]
     },
     "metadata": {},
     "output_type": "display_data"
    }
   ],
   "source": [
    "%%html\n",
    "<img src=\"https://breakingdownfinance.com/wp-content/uploads/2016/07/minimum-variance-portflio.png\">"
   ]
  },
  {
   "cell_type": "code",
   "execution_count": 33,
   "metadata": {},
   "outputs": [
    {
     "name": "stdout",
     "output_type": "stream",
     "text": [
      "The Portfolio Weights are [[0.05030877 0.12979729 0.02500862 0.79488532]]\n",
      "The monthly return of the portfolio is [0.00614397]\n",
      "The risk of the portfolio is [[0.0174221]]\n"
     ]
    }
   ],
   "source": [
    "Deno_MVP=np.matmul(np.ones((1,4)),np.linalg.inv(a))\n",
    "Nume_MVP=np.matmul(np.ones((1,4)),np.matmul(np.linalg.inv(a),np.ones((4,1))))    \n",
    "Weight_MVP=Deno_MVP/Nume_MVP\n",
    "print('The Portfolio Weights are',Weight_MVP)\n",
    "Return_MVP=np.matmul(Weight_MVP,np.transpose(indata[RiskyAsset].mean()))\n",
    "print('The monthly return of the portfolio is',Return_MVP)\n",
    "squarerisk_MVP=np.matmul(Weight_MVP,np.matmul(a,Weight_MVP.T))\n",
    "Risk_MVP=np.sqrt(squarerisk_MVP)\n",
    "print('The risk of the portfolio is',Risk_MVP)"
   ]
  },
  {
   "cell_type": "markdown",
   "metadata": {},
   "source": [
    "Interpreting these results, we note that our minimum variance portfolio is made up of 5% MSCI Europe, 12% MSCI USA, 2.5% MSCI Pacific, and 79.5% the US 10 Year Treasury Bond. We note the significant concentration of the US Bond, and this makes sense -- even though we consider it a \"risky\" asset due to investor liqudity risk, it is still backed by the US government, and helps to contribute to this portfolio's low risk at a higher proportion than the other assets. "
   ]
  },
  {
   "cell_type": "markdown",
   "metadata": {},
   "source": [
    "Let's compare this to our risk-free asset"
   ]
  },
  {
   "cell_type": "code",
   "execution_count": 34,
   "metadata": {},
   "outputs": [
    {
     "name": "stdout",
     "output_type": "stream",
     "text": [
      "0.0028150143678160908\n",
      "0.0022528699780771863\n"
     ]
    }
   ],
   "source": [
    "print(indata[RiskFreeAsset].mean())\n",
    "print(indata[RiskFreeAsset].std())"
   ]
  },
  {
   "cell_type": "markdown",
   "metadata": {},
   "source": [
    "We find that our risky asset portfolio has an expected monthly return of 6.14% and a risk of 1.7%, while our risk-free asset has an expected monthly return of 2.8% and a risk of 0.2% (virtually risk-free). This is in line with our expectations, and again we note: higher risk is compensated with higher returns. If an investor chose to invest in the risk-free asset, he would have very little to worry about, but his expected returns would also be lower. "
   ]
  },
  {
   "cell_type": "markdown",
   "metadata": {},
   "source": [
    "## Calculating Portfolio Weights Given A Specified Expected Return"
   ]
  },
  {
   "cell_type": "markdown",
   "metadata": {},
   "source": [
    " Let us reverse our calculations to find the optimal portfolio composition given a specific expected return. Suppose that an investor demands to have a portfolio that gives an expected annual return of 11% with as little risk as possible."
   ]
  },
  {
   "cell_type": "code",
   "execution_count": 35,
   "metadata": {},
   "outputs": [
    {
     "name": "stdout",
     "output_type": "stream",
     "text": [
      "The Portfolio Weights are [[ 0.07229895  0.73773344 -0.38596315  0.57593077]]\n",
      "The monthly return of the portfolio is 0.009166666666666667\n",
      "The risk of the portfolio is [[0.02961807]]\n"
     ]
    }
   ],
   "source": [
    "m=indata[RiskyAsset].mean()\n",
    "InC=np.linalg.inv(a)\n",
    "M=np.matrix([[np.matmul(m,np.matmul(InC,m.T)),np.matmul(np.ones((1,4)),np.matmul(InC,m.T))],\n",
    "             [np.matmul(m,np.matmul(InC,np.ones((4,1)))),np.matmul(np.ones((1,4)),np.matmul(InC,np.ones((4,1))))]])\n",
    "Lam=2*np.linalg.inv(M)*np.matrix([[0.11/12],[1]])\n",
    "Weight1=(Lam.item(0,0)*np.matmul(m,InC)+Lam.item(1,0)*np.matmul(np.ones((1,4)),InC))/2\n",
    "print('The Portfolio Weights are',Weight1)\n",
    "Return1=0.11/12\n",
    "print('The monthly return of the portfolio is', Return1)\n",
    "squarerisk1=np.matmul(Weight1,np.matmul(a,Weight1.T))\n",
    "Risk1=np.sqrt(squarerisk1)\n",
    "print('The risk of the portfolio is', Risk1)"
   ]
  },
  {
   "cell_type": "markdown",
   "metadata": {},
   "source": [
    "We note that, with the investor's specified return, there is a risk of 3% associated with this portfolio. Additionally, an interesting aspect is that the portfolio weight of the MSCI Pacific is negative, which means that the portfolio manager would have to short this asset to achieve the specified return. "
   ]
  },
  {
   "cell_type": "markdown",
   "metadata": {},
   "source": [
    "More broadly, we can create a function that lets us determine the weights, monthly return, and risk of the optimal portfolio, given an investor's specified expected return demand. \n",
    "\n",
    "This becomes the minimum variance frontier: the set of optimal portfolios that offers the lowest risk for a given level of expected return. "
   ]
  },
  {
   "cell_type": "code",
   "execution_count": 36,
   "metadata": {},
   "outputs": [],
   "source": [
    "def WeightReturnRisk(investor_specified_return):\n",
    "    simple=np.matrix([[investor_specified_return/12],[1]])\n",
    "    Lam2=2*np.matmul(np.linalg.inv(M),np.matrix([[investor_specified_return/12],[1]]))\n",
    "    Weight2=(Lam2.item(0,0)*np.matmul(m,InC)+Lam2.item(1,0)*np.matmul(np.ones((1,4)),InC))/2\n",
    "    print('The Portfolio Weights are',Weight2)\n",
    "    Return2=investor_specified_return/12\n",
    "    print('The monthly return of the portfolio is', Return2)\n",
    "    squarerisk2=np.matmul(Weight2,np.matmul(a,Weight2.T))\n",
    "    Risk2=np.sqrt(squarerisk2)\n",
    "    print('The risk of the portfolio is', Risk2)\n",
    "    plt.plot(Risk2,investor_specified_return/12,'k.')"
   ]
  },
  {
   "cell_type": "markdown",
   "metadata": {},
   "source": [
    "We input different levels of expected return into our function, and compare it graphically with the minimum variance portfolio (depicted as a blue triangle), and a portfolio equally weighted with all 4 risky assets (red star). "
   ]
  },
  {
   "cell_type": "code",
   "execution_count": 37,
   "metadata": {
    "scrolled": true
   },
   "outputs": [
    {
     "name": "stdout",
     "output_type": "stream",
     "text": [
      "\n",
      "     To construct a minimum-risk portfolio with expected return of 0.2:\n",
      "The Portfolio Weights are [[ 0.12686169  2.2461642  -1.40567955  0.03265367]]\n",
      "The monthly return of the portfolio is 0.016666666666666666\n",
      "The risk of the portfolio is [[0.08518331]]\n",
      "\n",
      "     To construct a minimum-risk portfolio with expected return of 0.19:\n",
      "The Portfolio Weights are [[ 0.12079916  2.07856078 -1.29237773  0.09301779]]\n",
      "The monthly return of the portfolio is 0.015833333333333335\n",
      "The risk of the portfolio is [[0.07873108]]\n",
      "\n",
      "     To construct a minimum-risk portfolio with expected return of 0.18:\n",
      "The Portfolio Weights are [[ 0.11473663  1.91095736 -1.17907591  0.15338191]]\n",
      "The monthly return of the portfolio is 0.015\n",
      "The risk of the portfolio is [[0.07230615]]\n",
      "\n",
      "     To construct a minimum-risk portfolio with expected return of 0.17:\n",
      "The Portfolio Weights are [[ 0.10867411  1.74335394 -1.06577409  0.21374603]]\n",
      "The monthly return of the portfolio is 0.014166666666666668\n",
      "The risk of the portfolio is [[0.06591651]]\n",
      "\n",
      "     To construct a minimum-risk portfolio with expected return of 0.16:\n",
      "The Portfolio Weights are [[ 0.10261158  1.57575053 -0.95247226  0.27411016]]\n",
      "The monthly return of the portfolio is 0.013333333333333334\n",
      "The risk of the portfolio is [[0.05957351]]\n",
      "\n",
      "     To construct a minimum-risk portfolio with expected return of 0.15:\n",
      "The Portfolio Weights are [[ 0.09654905  1.40814711 -0.83917044  0.33447428]]\n",
      "The monthly return of the portfolio is 0.012499999999999999\n",
      "The risk of the portfolio is [[0.05329379]]\n",
      "\n",
      "     To construct a minimum-risk portfolio with expected return of 0.14:\n",
      "The Portfolio Weights are [[ 0.09048653  1.24054369 -0.72586862  0.3948384 ]]\n",
      "The monthly return of the portfolio is 0.011666666666666667\n",
      "The risk of the portfolio is [[0.0471027]]\n",
      "\n",
      "     To construct a minimum-risk portfolio with expected return of 0.13:\n",
      "The Portfolio Weights are [[ 0.084424    1.07294027 -0.6125668   0.45520252]]\n",
      "The monthly return of the portfolio is 0.010833333333333334\n",
      "The risk of the portfolio is [[0.04104034]]\n",
      "\n",
      "     To construct a minimum-risk portfolio with expected return of 0.12:\n",
      "The Portfolio Weights are [[ 0.07836147  0.90533686 -0.49926498  0.51556665]]\n",
      "The monthly return of the portfolio is 0.01\n",
      "The risk of the portfolio is [[0.03517336]]\n",
      "\n",
      "     To construct a minimum-risk portfolio with expected return of 0.11:\n",
      "The Portfolio Weights are [[ 0.07229895  0.73773344 -0.38596315  0.57593077]]\n",
      "The monthly return of the portfolio is 0.009166666666666667\n",
      "The risk of the portfolio is [[0.02961807]]\n"
     ]
    },
    {
     "data": {
      "image/png": "[encoded data removed]",
      "text/plain": [
       "<matplotlib.figure.Figure at 0x11c3eff98>"
      ]
     },
     "metadata": {},
     "output_type": "display_data"
    }
   ],
   "source": [
    "print('''\n",
    "     To construct a minimum-risk portfolio with expected return of 0.2:''')\n",
    "WeightReturnRisk(0.2)\n",
    "\n",
    "print('''\n",
    "     To construct a minimum-risk portfolio with expected return of 0.19:''')\n",
    "WeightReturnRisk(0.19)\n",
    "\n",
    "print('''\n",
    "     To construct a minimum-risk portfolio with expected return of 0.18:''')\n",
    "WeightReturnRisk(0.18)\n",
    "\n",
    "print('''\n",
    "     To construct a minimum-risk portfolio with expected return of 0.17:''')\n",
    "WeightReturnRisk(0.17)\n",
    "\n",
    "print('''\n",
    "     To construct a minimum-risk portfolio with expected return of 0.16:''')\n",
    "WeightReturnRisk(0.16)\n",
    "\n",
    "print('''\n",
    "     To construct a minimum-risk portfolio with expected return of 0.15:''')\n",
    "WeightReturnRisk(0.15)\n",
    "\n",
    "print('''\n",
    "     To construct a minimum-risk portfolio with expected return of 0.14:''')\n",
    "WeightReturnRisk(0.14)\n",
    "\n",
    "print('''\n",
    "     To construct a minimum-risk portfolio with expected return of 0.13:''')\n",
    "WeightReturnRisk(0.13)\n",
    "\n",
    "print('''\n",
    "     To construct a minimum-risk portfolio with expected return of 0.12:''')\n",
    "WeightReturnRisk(0.12)\n",
    "\n",
    "print('''\n",
    "     To construct a minimum-risk portfolio with expected return of 0.11:''')\n",
    "WeightReturnRisk(0.11)\n",
    "\n",
    "plt.plot(Risk_MVP,Return_MVP,'b^')\n",
    "\n",
    "Weight3=np.matrix([[0.25,0.25,0.25,0.25]])\n",
    "Return3=np.matmul(Weight3,np.transpose(indata[RiskyAsset].mean()))\n",
    "squarerisk3=np.matmul(Weight3,np.matmul(a,Weight3.T))\n",
    "Risk3=np.sqrt(squarerisk3)\n",
    "plt.plot(Risk3, Return3,'r*')\n",
    "                \n",
    "plt.show()\n",
    "\n"
   ]
  },
  {
   "cell_type": "markdown",
   "metadata": {},
   "source": [
    "The blue triangle, the minimum variance portfolio, marks the beginning of our minimum variance frontier, which continues along the black dots. We can immediately see that an equally weight portfolio, the red star, falls below the minimum variance frontier and is not an optimal portfolio mix for the given level of return. That is, an investor could select a more optimal portfolio mix and generate a monthly return of 0.9% instead of 0.65%, with the same level of risk!"
   ]
  },
  {
   "cell_type": "markdown",
   "metadata": {},
   "source": [
    "## <span style=\"color:blue\">Calculating Beta"
   ]
  },
  {
   "cell_type": "markdown",
   "metadata": {},
   "source": [
    "Finally, we calculate the Beta of each of our risky assets, relative to 2 market portfolios. Beta is a measure of the volatility, or systematic risk, of a security or a portfolio in comparison to the market as a whole. A beta of 1 indicates that the security's price moves with the market. A beta of less than 1 means that the security is theoretically less volatile than the market. A beta of greater than 1 indicates that the security's price is theoretically more volatile than the market.\n",
    "\n",
    "We use MSCI AC World and MSCI USA as our two \"market portfolios\", which represent the returns of entire markets. "
   ]
  },
  {
   "cell_type": "code",
   "execution_count": 38,
   "metadata": {},
   "outputs": [
    {
     "data": {
      "text/html": [
       "<div>\n",
       "<style scoped>\n",
       "    .dataframe tbody tr th:only-of-type {\n",
       "        vertical-align: middle;\n",
       "    }\n",
       "\n",
       "    .dataframe tbody tr th {\n",
       "        vertical-align: top;\n",
       "    }\n",
       "\n",
       "    .dataframe thead th {\n",
       "        text-align: right;\n",
       "    }\n",
       "</style>\n",
       "<table border=\"1\" class=\"dataframe\">\n",
       "  <thead>\n",
       "    <tr style=\"text-align: right;\">\n",
       "      <th></th>\n",
       "      <th>MSCI AC WORLD Beta</th>\n",
       "      <th>MSCI USA Beta</th>\n",
       "    </tr>\n",
       "  </thead>\n",
       "  <tbody>\n",
       "    <tr>\n",
       "      <th>MSCI EUROPE</th>\n",
       "      <td>1.187019</td>\n",
       "      <td>0.785945</td>\n",
       "    </tr>\n",
       "    <tr>\n",
       "      <th>MSCI USA</th>\n",
       "      <td>1.510308</td>\n",
       "      <td>1.000000</td>\n",
       "    </tr>\n",
       "    <tr>\n",
       "      <th>MSCI PACIFIC</th>\n",
       "      <td>0.188788</td>\n",
       "      <td>0.124999</td>\n",
       "    </tr>\n",
       "    <tr>\n",
       "      <th>TREASURY.BOND.10Y</th>\n",
       "      <td>0.669897</td>\n",
       "      <td>0.443550</td>\n",
       "    </tr>\n",
       "  </tbody>\n",
       "</table>\n",
       "</div>"
      ],
      "text/plain": [
       "                   MSCI AC WORLD Beta  MSCI USA Beta\n",
       "MSCI EUROPE                  1.187019       0.785945\n",
       "MSCI USA                     1.510308       1.000000\n",
       "MSCI PACIFIC                 0.188788       0.124999\n",
       "TREASURY.BOND.10Y            0.669897       0.443550"
      ]
     },
     "execution_count": 38,
     "metadata": {},
     "output_type": "execute_result"
    }
   ],
   "source": [
    "R=indata[\"TREASURY.BILL.90D\"].mean()\n",
    "wM_T=m-R\n",
    "ac_World=indata[\"MSCI AC WORLD\"].mean()\n",
    "wM_B=ac_World-R\n",
    "wM=wM_T/wM_B\n",
    "usa_World=indata[\"MSCI USA\"].mean()\n",
    "wM_B2=usa_World-R\n",
    "wM2=wM_T/wM_B2\n",
    "n={\"MSCI AC WORLD Beta\":wM,\n",
    "  \"MSCI USA Beta\":wM2}\n",
    "pd.DataFrame(n)"
   ]
  },
  {
   "cell_type": "markdown",
   "metadata": {},
   "source": [
    "MSCI USA obviously has a beta of 1 compared to itself, since it is moving with itself. We note that MSCI Europe is less volatile than MSCI USA and more volative than MSCI AC WORLD. MSCI Pacific and the US 10 Year Treasury Bond are less volatile than both market portfolios -- that is to say that they move less in correlation with the market, and are less risky assets. "
   ]
  },
  {
   "cell_type": "markdown",
   "metadata": {},
   "source": [
    "# Results & Concluding Remarks"
   ]
  },
  {
   "cell_type": "markdown",
   "metadata": {},
   "source": [
    "Through our investigation, we come to a clear conclusion: there are definitely combinations of portfolios that allow investors to generate higher expected returns than they might otherwise obtain from investing in a single asset. However, there is no such thing as a \"best\" portfolio. What we do find is that a \"minimum variance frontier\" exists, a series of \"best\" portfolios that generate the highest returns given a specific level of risk. However, there are definitely sub-optimal portfolio combinations, for which a better portfolio (asset weight) combination could generate higher returns, for the same level of risk!  \n",
    "\n",
    "Risk should absolutely be taken into acount in consdering the optimal investment mix. An investor who is not astute may only look at investment returns, and create a portfolio of assets that generate the highest returns. However, he completely disregards the risk profiles of his assets, and may risk losing capital! This is not to say that higher risk is bad-- in fact, assets with higher risk should have higher expected returns to compensate the investor for this risk.  \n",
    "\n",
    "To summarize, portfolio management should be based on the risk profile and goals of each individual investor. For those who are extremely risk-averse, perhaps only investing in the US Treasury Bond IS the right decision. For those who are more risk-neutral or risk-seeking, they must require higher returns in compensation. "
   ]
  },
  {
   "cell_type": "markdown",
   "metadata": {},
   "source": [
    "### Github Link"
   ]
  },
  {
   "cell_type": "markdown",
   "metadata": {},
   "source": [
    "https://github.com/yl4566/Fall-2018-Data-Bootcamp-Final-Project---Richard-Yang"
   ]
  }
 ],
 "metadata": {
  "kernelspec": {
   "display_name": "Python 3",
   "language": "python",
   "name": "python3"
  },
  "language_info": {
   "codemirror_mode": {
    "name": "ipython",
    "version": 3
   },
   "file_extension": ".py",
   "mimetype": "text/x-python",
   "name": "python",
   "nbconvert_exporter": "python",
   "pygments_lexer": "ipython3",
   "version": "3.6.4"
  }
 },
 "nbformat": 4,
 "nbformat_minor": 2
}
